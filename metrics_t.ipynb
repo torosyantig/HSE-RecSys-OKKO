{
 "cells": [
  {
   "cell_type": "markdown",
   "id": "c82a5e9b-6e98-4011-8271-559c61f35bf0",
   "metadata": {},
   "source": [
    "1. Modules and functions\n"
   ]
  },
  {
   "cell_type": "code",
   "execution_count": 1,
   "id": "c360ce55-6265-41e9-bb1d-72414a7e311d",
   "metadata": {},
   "outputs": [],
   "source": [
    "import numpy as np\n",
    "from math import log2"
   ]
  },
  {
   "cell_type": "markdown",
   "id": "78d0078e-7c75-43b8-abd9-06bc5d0e2827",
   "metadata": {},
   "source": [
    "2. Main\n",
    "2.1. Precision@K"
   ]
  },
  {
   "cell_type": "code",
   "execution_count": 2,
   "id": "fc18041d-ee13-48a2-b541-4ba159238a98",
   "metadata": {},
   "outputs": [],
   "source": [
    "def precission_at_k(y_true: np.array, y_pred: np.array, k: int) -> float:\n",
    "    \"\"\"\n",
    "    y_true: true labels\n",
    "    y_pred: predicted lables\n",
    "    k: cutoff length\n",
    "    \"\"\"\n",
    "\n",
    "    if sum(y_true) == 0:\n",
    "        return -1\n",
    "\n",
    "    argsort = np.argsort(y_pred)[::-1]\n",
    "    y_true_sorted = y_true[argsort]\n",
    "    true_positives = y_true_sorted[:k].sum()\n",
    "\n",
    "    return true_positives / k"
   ]
  },
  {
   "cell_type": "code",
   "execution_count": 3,
   "id": "1bcfb4b0-6c3e-4c1f-940c-d42fd7024a30",
   "metadata": {},
   "outputs": [],
   "source": [
    "# example array\n",
    "y_true = np.array([1, 0, 0, 1, 0, 0])\n",
    "y_pred = np.array([6, 2, 3, 5, 4, 1])"
   ]
  },
  {
   "cell_type": "code",
   "execution_count": 4,
   "id": "f88d0e01-e529-4090-a920-95cfc2c13394",
   "metadata": {},
   "outputs": [
    {
     "data": {
      "text/plain": [
       "array([0, 3, 4, 2, 1, 5])"
      ]
     },
     "execution_count": 4,
     "metadata": {},
     "output_type": "execute_result"
    }
   ],
   "source": [
    "argsort = np.argsort(y_pred)[::-1]\n",
    "argsort"
   ]
  },
  {
   "cell_type": "code",
   "execution_count": 5,
   "id": "aa8296b9-dddd-4ba5-9088-3076bf253698",
   "metadata": {},
   "outputs": [
    {
     "data": {
      "text/plain": [
       "array([1, 1, 0, 0, 0, 0])"
      ]
     },
     "execution_count": 5,
     "metadata": {},
     "output_type": "execute_result"
    }
   ],
   "source": [
    "y_true_sorted = y_true[argsort]\n",
    "y_true_sorted"
   ]
  },
  {
   "cell_type": "code",
   "execution_count": 6,
   "id": "de662947-077f-4514-bf26-adaefcfcef02",
   "metadata": {},
   "outputs": [
    {
     "data": {
      "text/plain": [
       "2"
      ]
     },
     "execution_count": 6,
     "metadata": {},
     "output_type": "execute_result"
    }
   ],
   "source": [
    "true_positives = y_true_sorted[:6].sum()\n",
    "true_positives"
   ]
  },
  {
   "cell_type": "code",
   "execution_count": 7,
   "id": "87314603-0673-4382-bb88-1e09c4aebe8f",
   "metadata": {},
   "outputs": [
    {
     "data": {
      "text/plain": [
       "0.3333333333333333"
      ]
     },
     "execution_count": 7,
     "metadata": {},
     "output_type": "execute_result"
    }
   ],
   "source": [
    "# as expected\n",
    "precission_at_k(y_true, y_pred, k = 6)"
   ]
  },
  {
   "cell_type": "markdown",
   "id": "eef8c14b-5ab8-4a7a-94bd-b60d86b871d1",
   "metadata": {},
   "source": [
    "2.2. AP@K, MAP@K\n",
    "\n",
    "\n",
    "\n",
    "\n",
    "\n"
   ]
  },
  {
   "cell_type": "code",
   "execution_count": 8,
   "id": "868d007c-ca02-494c-8017-8eb062581539",
   "metadata": {},
   "outputs": [],
   "source": [
    "def average_precision(y_true: np.array, y_pred: np.array, k: int) -> float:\n",
    "\n",
    "    if sum(y_true) == 0:\n",
    "        return -1\n",
    "\n",
    "    if len(y_pred) > k:\n",
    "        y_pred = y_pred[:k]\n",
    "\n",
    "    argsort = np.argsort(y_pred)[::-1]\n",
    "    y_true_sorted = y_true[argsort]\n",
    "\n",
    "    num_hits = 0\n",
    "    score = 0\n",
    "\n",
    "    for i, p in enumerate(y_true_sorted, 1):\n",
    "        if p == 1:\n",
    "            num_hits += 1\n",
    "            score += num_hits / i\n",
    "    if num_hits == 0:\n",
    "        output = 0\n",
    "    \n",
    "    else:\n",
    "        output = score / min(len(y_true), k)\n",
    "\n",
    "    return output"
   ]
  },
  {
   "cell_type": "code",
   "execution_count": 9,
   "id": "90770eed-6a4b-4f9d-aa95-186ef54daa19",
   "metadata": {},
   "outputs": [
    {
     "data": {
      "text/plain": [
       "0.3333333333333333"
      ]
     },
     "execution_count": 9,
     "metadata": {},
     "output_type": "execute_result"
    }
   ],
   "source": [
    "average_precision(y_true, y_pred, k = 3)"
   ]
  },
  {
   "cell_type": "code",
   "execution_count": 10,
   "id": "d47971e3-dce6-467a-9a08-1722b05808bd",
   "metadata": {},
   "outputs": [],
   "source": [
    "def mean_average_precision_dict(y_true: dict , y_pred: dict, k: int) -> float:\n",
    "    test = 0\n",
    "    for i in y_pred.keys():\n",
    "        a = average_precision(y_true[i], y_pred[i], k)\n",
    "        test += a\n",
    "    output = test/len(y_true)\n",
    "\n",
    "    return output\n",
    "    "
   ]
  },
  {
   "cell_type": "code",
   "execution_count": 11,
   "id": "57d41be2-e275-4445-b1e8-28722fdf7d85",
   "metadata": {},
   "outputs": [],
   "source": [
    "def mean_average_precision(y_true: np.array , y_pred: np.array, k: int) -> float:\n",
    "    test = []\n",
    "    for i in range(y_pred.shape[0]):\n",
    "        a = average_precision(y_true[i], y_pred[i], k)\n",
    "        test.append(a)\n",
    "    output = sum(test) / len(y_true)\n",
    "\n",
    "    return output"
   ]
  },
  {
   "cell_type": "code",
   "execution_count": 12,
   "id": "8989add0-f34e-4c9d-bf64-1a0cb31feb2e",
   "metadata": {},
   "outputs": [
    {
     "data": {
      "text/plain": [
       "0.3333333333333333"
      ]
     },
     "execution_count": 12,
     "metadata": {},
     "output_type": "execute_result"
    }
   ],
   "source": [
    "y_true = {1: np.array([0,0,0,1,0,1]),\n",
    "          2: np.array([1,1,0,1,1,0])}\n",
    "\n",
    "y_pred = {1: np.array([1,2,4,3,7,3]),\n",
    "          2: np.array([4,5,2,1,7,8])}\n",
    "\n",
    "MAP = mean_average_precision_dict(y_true, y_pred, 3)\n",
    "MAP"
   ]
  },
  {
   "cell_type": "markdown",
   "id": "bf700762-66f8-4347-bc15-7ab82c754401",
   "metadata": {},
   "source": [
    "MRR "
   ]
  },
  {
   "cell_type": "code",
   "execution_count": 13,
   "id": "8652582c-4dce-4dd3-b585-067fcdaaebc6",
   "metadata": {},
   "outputs": [],
   "source": [
    "def reciprocal_rank(y_true: np.array, y_pred: np.array) -> float:\n",
    "    \n",
    "    argsort = np.argsort(y_pred)[::-1]\n",
    "    y_true_sorted = y_true[argsort]\n",
    "    for i, val in enumerate(y_true_sorted, 1):     \n",
    "        if val == 1:\n",
    "            return 1 / i\n",
    "    return 0"
   ]
  },
  {
   "cell_type": "code",
   "execution_count": 14,
   "id": "f24ddacf-86b0-44f5-8279-2f1572e1ca74",
   "metadata": {},
   "outputs": [],
   "source": [
    "# example array for MRR\n",
    "y_true = np.array([1, 0, 0, 1, 0, 0])\n",
    "y_pred = np.array([0, 2, 3, 3.5, 4, 1])"
   ]
  },
  {
   "cell_type": "code",
   "execution_count": 15,
   "id": "efd3f74a-50a6-42e7-9db5-ddac97a6bf93",
   "metadata": {},
   "outputs": [
    {
     "data": {
      "text/plain": [
       "0.5"
      ]
     },
     "execution_count": 15,
     "metadata": {},
     "output_type": "execute_result"
    }
   ],
   "source": [
    "reciprocal_rank(y_true, y_pred)"
   ]
  },
  {
   "cell_type": "markdown",
   "id": "3b293d9c-1f4b-4c7d-8225-209bddf2b185",
   "metadata": {},
   "source": [
    "2.4. NDCG"
   ]
  },
  {
   "cell_type": "code",
   "execution_count": 16,
   "id": "cfd8b8a0-0446-400c-8146-e4b99cbc873d",
   "metadata": {},
   "outputs": [],
   "source": [
    "def compute_gain(y_value: float, gain_scheme: str) -> float:\n",
    "    \n",
    "    gain = {'exp2': 2 ** y_value - 1,\n",
    "            'const': y_value}\n",
    "\n",
    "    return float(gain[gain_scheme])"
   ]
  },
  {
   "cell_type": "code",
   "execution_count": 17,
   "id": "b823e8e2-51de-40c4-90f2-2b2363df79e1",
   "metadata": {},
   "outputs": [],
   "source": [
    "def dcg(y_true: np.array, y_pred: np.array, gain_scheme: str) -> float:\n",
    "    \n",
    "    dcg = 0\n",
    "    argsort = np.argsort(y_pred)[::-1]\n",
    "    y_true_sorted = y_true[argsort]\n",
    "\n",
    "    for idx, val in enumerate(y_true_sorted, 1):\n",
    "        gain = compute_gain(val, gain_scheme)\n",
    "        dcg += gain / log2(idx + 1)\n",
    "        \n",
    "    return dcg"
   ]
  },
  {
   "cell_type": "code",
   "execution_count": 24,
   "id": "eae9cc27-0cb0-432d-a5be-45144b1cde8d",
   "metadata": {},
   "outputs": [],
   "source": [
    "def ndcg(y_true: np.array, ys_pred: np.array, a: int, gain_scheme: str = 'const')  -> float:\n",
    "    \n",
    "    \n",
    "    if len(ys_pred)>a:\n",
    "        ys_pred_a = ys_pred[:a]\n",
    "        y_true_a = y_true[:a]\n",
    "    else:\n",
    "        ys_pred_a = ys_pred\n",
    "        y_true_a = y_true\n",
    "    \n",
    "\n",
    "    test_dcg = dcg(y_true_a, ys_pred_a, gain_scheme)\n",
    "\n",
    "\n",
    "    y_true_sort = np.sort(y_true)[::-1]\n",
    "    y_true_sort_a = y_true_sort[:a]\n",
    "    dcg_max = dcg(y_true_sort_a, y_true_sort_a, gain_scheme)\n",
    "\n",
    "    return test_dcg / dcg_max"
   ]
  },
  {
   "cell_type": "code",
   "execution_count": 25,
   "id": "8160ee73-71e2-42bd-8a60-d37be36b1719",
   "metadata": {},
   "outputs": [],
   "source": [
    "y_pred = np.array([1, 2, 8, 6, 9, 4]) # some score to sort\n",
    "y_true = np.array([8, 6, 5,3, 0, 3])"
   ]
  },
  {
   "cell_type": "code",
   "execution_count": 29,
   "id": "f996c580-1634-40a3-b9ff-284ad3ebdfb1",
   "metadata": {},
   "outputs": [
    {
     "name": "stdout",
     "output_type": "stream",
     "text": [
      "0.6389991470886698\n"
     ]
    }
   ],
   "source": [
    "print(ndcg(y_true, y_pred, 3, 'exp2'))"
   ]
  },
  {
   "cell_type": "code",
   "execution_count": null,
   "id": "e5e9e25a-44fb-46ee-96a1-0f6f078ed581",
   "metadata": {},
   "outputs": [],
   "source": []
  }
 ],
 "metadata": {
  "kernelspec": {
   "display_name": "Python 3 (ipykernel)",
   "language": "python",
   "name": "python3"
  },
  "language_info": {
   "codemirror_mode": {
    "name": "ipython",
    "version": 3
   },
   "file_extension": ".py",
   "mimetype": "text/x-python",
   "name": "python",
   "nbconvert_exporter": "python",
   "pygments_lexer": "ipython3",
   "version": "3.9.12"
  }
 },
 "nbformat": 4,
 "nbformat_minor": 5
}
